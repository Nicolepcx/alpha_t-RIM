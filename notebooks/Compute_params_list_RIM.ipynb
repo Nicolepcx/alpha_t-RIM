{
 "cells": [
  {
   "cell_type": "markdown",
   "metadata": {},
   "source": [
    "# Imports"
   ]
  },
  {
   "cell_type": "code",
   "execution_count": 1,
   "metadata": {},
   "outputs": [],
   "source": [
    "# standard imports\n",
    "import pickle\n",
    "from itertools import product\n",
    "import watermark\n",
    "import os\n",
    "import sys\n",
    "\n",
    "# ignore warnings\n",
    "import warnings\n",
    "warnings.filterwarnings(action='ignore')"
   ]
  },
  {
   "cell_type": "markdown",
   "metadata": {},
   "source": [
    "# Computing environment\n",
    "<a id=\"Versions\" > "
   ]
  },
  {
   "cell_type": "code",
   "execution_count": 2,
   "metadata": {
    "scrolled": true
   },
   "outputs": [
    {
     "name": "stdout",
     "output_type": "stream",
     "text": [
      "Author: Nicole Königstein\n",
      "2021-07-22 \n",
      "\n",
      "CPython 3.7.3\n",
      "IPython 7.19.0\n",
      "\n",
      "compiler   : Clang 4.0.1 (tags/RELEASE_401/final)\n",
      "system     : Darwin\n",
      "release    : 20.2.0\n",
      "machine    : x86_64\n",
      "processor  : i386\n",
      "CPU cores  : 16\n",
      "interpreter: 64bit\n",
      "CPython 3.7.3\n",
      "IPython 7.19.0\n",
      "\n",
      "numpy 1.19.5\n",
      "matplotlib 3.3.3\n",
      "pandas 1.2.3\n",
      "seaborn 0.11.1\n"
     ]
    }
   ],
   "source": [
    "%reload_ext watermark\n",
    "%watermark -a \"Author: Nicole Königstein\" \n",
    "%watermark -d -v -m \n",
    "%watermark -v -p numpy,matplotlib,pandas,seaborn\n"
   ]
  },
  {
   "cell_type": "code",
   "execution_count": 3,
   "metadata": {
    "id": "paunBOril3TD"
   },
   "outputs": [],
   "source": [
    "# google Colab was used to compute the params original and 1GB big params list\n",
    "#PATH = '/content/drive/MyDrive/00_BA/'\n",
    "PATH = '../filtered_params/'"
   ]
  },
  {
   "cell_type": "code",
   "execution_count": 4,
   "metadata": {
    "id": "H6l8paxwmCZ8"
   },
   "outputs": [],
   "source": [
    "n_units = [10, 12, 14, 16, 18, 20, 25, 30,35,40,45,50]\n",
    "nRIM = [8, 10, 12, 14]\n",
    "k = [8, 10, 12, 14]\n",
    "input_key_size = [6, 8, 10, 12]\n",
    "input_value_size = [6, 8, 10, 12]\n",
    "input_query_size = [6, 8, 10, 12]\n",
    "input_keep_prob = [0.7,0.8, 0.9]\n",
    "num_comm_heads = [4, 6, 8]\n",
    "comm_key_size = [6, 8, 10, 12]\n",
    "comm_value_size = [6, 8, 10, 12]\n",
    "comm_query_size = [6, 8, 10, 12]\n",
    "comm_keep_prob = [0.7,0.8, 0.9]\n",
    "    \n",
    "\n",
    "param_grid = {'n_units': n_units,\n",
    "          'nRIM': nRIM,\n",
    "          'k': k,\n",
    "          'input_key_size': input_key_size,\n",
    "          'input_value_size': input_value_size,\n",
    "          'input_query_size': input_query_size,\n",
    "          'input_keep_prob': input_keep_prob,\n",
    "          'num_comm_heads': num_comm_heads,\n",
    "          'comm_key_size': comm_key_size,\n",
    "          'comm_value_size': comm_value_size,\n",
    "          'comm_query_size': comm_query_size,\n",
    "          'comm_keep_prob': comm_keep_prob}\n",
    "\n",
    "all_params = product(n_units, nRIM, k, input_key_size, input_value_size, input_query_size, input_keep_prob, num_comm_heads,\n",
    "                          comm_key_size, comm_value_size, comm_query_size, comm_keep_prob)"
   ]
  },
  {
   "cell_type": "code",
   "execution_count": 5,
   "metadata": {
    "id": "LEdzECGdmLxa"
   },
   "outputs": [],
   "source": [
    "filtered_params = [{'n_units': [n_units], 'nRIM': [nRIM], 'k': [k],'input_value_size': [input_value_size],\n",
    "                    'input_key_size':[input_key_size], 'input_query_size':[input_query_size],\n",
    "                    'input_keep_prob': [input_keep_prob], 'num_comm_heads': [num_comm_heads], \n",
    "                    'comm_key_size': [comm_key_size],\n",
    "                    'comm_value_size': [comm_value_size], 'comm_query_size': [comm_query_size],\n",
    "                    'comm_keep_prob': [comm_keep_prob]\n",
    "                    }\n",
    "                   for n_units, nRIM, k, input_value_size, input_key_size, input_query_size, \n",
    "                   input_keep_prob, num_comm_heads, comm_key_size,\n",
    "                   comm_value_size, comm_query_size, comm_keep_prob in all_params\n",
    "                   if nRIM >= k and (input_key_size == input_query_size)\n",
    "                   and (comm_key_size == comm_query_size)]"
   ]
  },
  {
   "cell_type": "code",
   "execution_count": 6,
   "metadata": {
    "id": "ibOUdGGmmRQU"
   },
   "outputs": [],
   "source": [
    "file_name = PATH + 'reduced_filtered_params.pkl'\n",
    "\n",
    "open_file = open(file_name, \"wb\")\n",
    "pickle.dump(filtered_params, open_file)\n",
    "open_file.close()"
   ]
  }
 ],
 "metadata": {
  "colab": {
   "collapsed_sections": [],
   "machine_shape": "hm",
   "name": "Compute_params_list_RIM.ipynb",
   "provenance": []
  },
  "kernelspec": {
   "display_name": "Python 3",
   "language": "python",
   "name": "python3"
  },
  "language_info": {
   "codemirror_mode": {
    "name": "ipython",
    "version": 3
   },
   "file_extension": ".py",
   "mimetype": "text/x-python",
   "name": "python",
   "nbconvert_exporter": "python",
   "pygments_lexer": "ipython3",
   "version": "3.7.10"
  },
  "toc": {
   "base_numbering": 1,
   "nav_menu": {},
   "number_sections": true,
   "sideBar": true,
   "skip_h1_title": false,
   "title_cell": "Table of Contents",
   "title_sidebar": "Contents",
   "toc_cell": false,
   "toc_position": {},
   "toc_section_display": true,
   "toc_window_display": false
  },
  "varInspector": {
   "cols": {
    "lenName": 16,
    "lenType": 16,
    "lenVar": 40
   },
   "kernels_config": {
    "python": {
     "delete_cmd_postfix": "",
     "delete_cmd_prefix": "del ",
     "library": "var_list.py",
     "varRefreshCmd": "print(var_dic_list())"
    },
    "r": {
     "delete_cmd_postfix": ") ",
     "delete_cmd_prefix": "rm(",
     "library": "var_list.r",
     "varRefreshCmd": "cat(var_dic_list()) "
    }
   },
   "types_to_exclude": [
    "module",
    "function",
    "builtin_function_or_method",
    "instance",
    "_Feature"
   ],
   "window_display": false
  }
 },
 "nbformat": 4,
 "nbformat_minor": 1
}
